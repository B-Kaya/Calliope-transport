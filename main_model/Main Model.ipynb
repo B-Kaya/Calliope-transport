{
 "cells": [
  {
   "cell_type": "code",
   "execution_count": 1,
   "id": "b730b0c3",
   "metadata": {},
   "outputs": [],
   "source": [
    "import calliope\n",
    "import pandas as pd\n",
    "import plotly.express as px\n",
    "\n",
    "# We increase logging verbosity\n",
    "calliope.set_log_verbosity(\"INFO\", include_solver_output=False)"
   ]
  },
  {
   "cell_type": "code",
   "execution_count": 2,
   "id": "8e0cc665-5065-4337-b8c6-22c036f347b7",
   "metadata": {},
   "outputs": [
    {
     "name": "stdout",
     "output_type": "stream",
     "text": [
      "[2024-12-12 03:15:10] INFO     Model: initialising\n",
      "[2024-12-12 03:15:10] INFO     Model: preprocessing stage 1 (model_run)\n"
     ]
    },
    {
     "ename": "ModelError",
     "evalue": "Errors during validation of the tech definition at node `Iceland` dictionary.:\n * techs.aluminum_supply: 'base_tech' is a required property\n * techs.aluminum_supply: {} is not valid under any of the given schemas",
     "output_type": "error",
     "traceback": [
      "\u001b[1;31m---------------------------------------------------------------------------\u001b[0m",
      "\u001b[1;31mModelError\u001b[0m                                Traceback (most recent call last)",
      "Cell \u001b[1;32mIn[2], line 1\u001b[0m\n\u001b[1;32m----> 1\u001b[0m model \u001b[38;5;241m=\u001b[39m \u001b[43mcalliope\u001b[49m\u001b[38;5;241;43m.\u001b[39;49m\u001b[43mModel\u001b[49m\u001b[43m(\u001b[49m\u001b[38;5;124;43m'\u001b[39;49m\u001b[38;5;124;43mmodel.yaml\u001b[39;49m\u001b[38;5;124;43m'\u001b[39;49m\u001b[43m)\u001b[49m\n",
      "File \u001b[1;32m~\\miniforge3\\envs\\calliope\\Lib\\site-packages\\calliope\\model.py:117\u001b[0m, in \u001b[0;36mModel.__init__\u001b[1;34m(self, model_definition, debug, scenario, override_dict, data_source_dfs, **kwargs)\u001b[0m\n\u001b[0;32m    111\u001b[0m \u001b[38;5;28;01melse\u001b[39;00m:\n\u001b[0;32m    112\u001b[0m     (model_def, \u001b[38;5;28mself\u001b[39m\u001b[38;5;241m.\u001b[39m_model_def_path, applied_overrides) \u001b[38;5;241m=\u001b[39m (\n\u001b[0;32m    113\u001b[0m         load\u001b[38;5;241m.\u001b[39mload_model_definition(\n\u001b[0;32m    114\u001b[0m             model_definition, scenario, override_dict, \u001b[38;5;241m*\u001b[39m\u001b[38;5;241m*\u001b[39mkwargs\n\u001b[0;32m    115\u001b[0m         )\n\u001b[0;32m    116\u001b[0m     )\n\u001b[1;32m--> 117\u001b[0m     \u001b[38;5;28;43mself\u001b[39;49m\u001b[38;5;241;43m.\u001b[39;49m\u001b[43m_init_from_model_def_dict\u001b[49m\u001b[43m(\u001b[49m\n\u001b[0;32m    118\u001b[0m \u001b[43m        \u001b[49m\u001b[43mmodel_def\u001b[49m\u001b[43m,\u001b[49m\u001b[43m \u001b[49m\u001b[43mapplied_overrides\u001b[49m\u001b[43m,\u001b[49m\u001b[43m \u001b[49m\u001b[43mscenario\u001b[49m\u001b[43m,\u001b[49m\u001b[43m \u001b[49m\u001b[43mdebug\u001b[49m\u001b[43m,\u001b[49m\u001b[43m \u001b[49m\u001b[43mdata_source_dfs\u001b[49m\n\u001b[0;32m    119\u001b[0m \u001b[43m    \u001b[49m\u001b[43m)\u001b[49m\n\u001b[0;32m    121\u001b[0m version_def \u001b[38;5;241m=\u001b[39m \u001b[38;5;28mself\u001b[39m\u001b[38;5;241m.\u001b[39m_model_data\u001b[38;5;241m.\u001b[39mattrs[\u001b[38;5;124m\"\u001b[39m\u001b[38;5;124mcalliope_version_defined\u001b[39m\u001b[38;5;124m\"\u001b[39m]\n\u001b[0;32m    122\u001b[0m version_init \u001b[38;5;241m=\u001b[39m \u001b[38;5;28mself\u001b[39m\u001b[38;5;241m.\u001b[39m_model_data\u001b[38;5;241m.\u001b[39mattrs[\u001b[38;5;124m\"\u001b[39m\u001b[38;5;124mcalliope_version_initialised\u001b[39m\u001b[38;5;124m\"\u001b[39m]\n",
      "File \u001b[1;32m~\\miniforge3\\envs\\calliope\\Lib\\site-packages\\calliope\\model.py:213\u001b[0m, in \u001b[0;36mModel._init_from_model_def_dict\u001b[1;34m(self, model_definition, applied_overrides, scenario, debug, data_source_dfs)\u001b[0m\n\u001b[0;32m    197\u001b[0m data_sources \u001b[38;5;241m=\u001b[39m [\n\u001b[0;32m    198\u001b[0m     DataSource(\n\u001b[0;32m    199\u001b[0m         init_config,\n\u001b[1;32m   (...)\u001b[0m\n\u001b[0;32m    207\u001b[0m     )\u001b[38;5;241m.\u001b[39mitems()\n\u001b[0;32m    208\u001b[0m ]\n\u001b[0;32m    210\u001b[0m model_data_factory \u001b[38;5;241m=\u001b[39m ModelDataFactory(\n\u001b[0;32m    211\u001b[0m     init_config, model_definition, data_sources, attributes, param_metadata\n\u001b[0;32m    212\u001b[0m )\n\u001b[1;32m--> 213\u001b[0m \u001b[43mmodel_data_factory\u001b[49m\u001b[38;5;241;43m.\u001b[39;49m\u001b[43mbuild\u001b[49m\u001b[43m(\u001b[49m\u001b[43m)\u001b[49m\n\u001b[0;32m    215\u001b[0m \u001b[38;5;28mself\u001b[39m\u001b[38;5;241m.\u001b[39m_model_data \u001b[38;5;241m=\u001b[39m model_data_factory\u001b[38;5;241m.\u001b[39mdataset\n\u001b[0;32m    217\u001b[0m log_time(\n\u001b[0;32m    218\u001b[0m     LOGGER,\n\u001b[0;32m    219\u001b[0m     \u001b[38;5;28mself\u001b[39m\u001b[38;5;241m.\u001b[39m_timings,\n\u001b[0;32m    220\u001b[0m     \u001b[38;5;124m\"\u001b[39m\u001b[38;5;124mmodel_data_creation\u001b[39m\u001b[38;5;124m\"\u001b[39m,\n\u001b[0;32m    221\u001b[0m     comment\u001b[38;5;241m=\u001b[39m\u001b[38;5;124m\"\u001b[39m\u001b[38;5;124mModel: preprocessing stage 2 (model_data)\u001b[39m\u001b[38;5;124m\"\u001b[39m,\n\u001b[0;32m    222\u001b[0m )\n",
      "File \u001b[1;32m~\\miniforge3\\envs\\calliope\\Lib\\site-packages\\calliope\\preprocess\\model_data.py:101\u001b[0m, in \u001b[0;36mModelDataFactory.build\u001b[1;34m(self)\u001b[0m\n\u001b[0;32m     99\u001b[0m \u001b[38;5;28;01mdef\u001b[39;00m \u001b[38;5;21mbuild\u001b[39m(\u001b[38;5;28mself\u001b[39m):\n\u001b[0;32m    100\u001b[0m     \u001b[38;5;124m\"\u001b[39m\u001b[38;5;124mBuild dataset from model definition.\u001b[39m\u001b[38;5;124m\"\u001b[39m\n\u001b[1;32m--> 101\u001b[0m     \u001b[38;5;28;43mself\u001b[39;49m\u001b[38;5;241;43m.\u001b[39;49m\u001b[43madd_node_tech_data\u001b[49m\u001b[43m(\u001b[49m\u001b[43m)\u001b[49m\n\u001b[0;32m    102\u001b[0m     \u001b[38;5;28mself\u001b[39m\u001b[38;5;241m.\u001b[39madd_top_level_params()\n\u001b[0;32m    103\u001b[0m     \u001b[38;5;28mself\u001b[39m\u001b[38;5;241m.\u001b[39mclean_data_from_undefined_members()\n",
      "File \u001b[1;32m~\\miniforge3\\envs\\calliope\\Lib\\site-packages\\calliope\\preprocess\\model_data.py:165\u001b[0m, in \u001b[0;36mModelDataFactory.add_node_tech_data\u001b[1;34m(self)\u001b[0m\n\u001b[0;32m    160\u001b[0m node_ref_vars \u001b[38;5;241m=\u001b[39m \u001b[38;5;28mself\u001b[39m\u001b[38;5;241m.\u001b[39m_get_relevant_node_refs(techs_this_node, node_name)\n\u001b[0;32m    162\u001b[0m techs_this_node_incl_inheritance \u001b[38;5;241m=\u001b[39m \u001b[38;5;28mself\u001b[39m\u001b[38;5;241m.\u001b[39m_inherit_defs(\n\u001b[0;32m    163\u001b[0m     \u001b[38;5;124m\"\u001b[39m\u001b[38;5;124mtechs\u001b[39m\u001b[38;5;124m\"\u001b[39m, techs_this_node, nodes\u001b[38;5;241m=\u001b[39mnode_name\n\u001b[0;32m    164\u001b[0m )\n\u001b[1;32m--> 165\u001b[0m \u001b[43mvalidate_dict\u001b[49m\u001b[43m(\u001b[49m\n\u001b[0;32m    166\u001b[0m \u001b[43m    \u001b[49m\u001b[43m{\u001b[49m\u001b[38;5;124;43m\"\u001b[39;49m\u001b[38;5;124;43mtechs\u001b[39;49m\u001b[38;5;124;43m\"\u001b[39;49m\u001b[43m:\u001b[49m\u001b[43m \u001b[49m\u001b[43mtechs_this_node_incl_inheritance\u001b[49m\u001b[43m}\u001b[49m\u001b[43m,\u001b[49m\n\u001b[0;32m    167\u001b[0m \u001b[43m    \u001b[49m\u001b[43mMODEL_SCHEMA\u001b[49m\u001b[43m,\u001b[49m\n\u001b[0;32m    168\u001b[0m \u001b[43m    \u001b[49m\u001b[38;5;124;43mf\u001b[39;49m\u001b[38;5;124;43m\"\u001b[39;49m\u001b[38;5;124;43mtech definition at node `\u001b[39;49m\u001b[38;5;132;43;01m{\u001b[39;49;00m\u001b[43mnode_name\u001b[49m\u001b[38;5;132;43;01m}\u001b[39;49;00m\u001b[38;5;124;43m`\u001b[39;49m\u001b[38;5;124;43m\"\u001b[39;49m\u001b[43m,\u001b[49m\n\u001b[0;32m    169\u001b[0m \u001b[43m\u001b[49m\u001b[43m)\u001b[49m\n\u001b[0;32m    170\u001b[0m \u001b[38;5;28mself\u001b[39m\u001b[38;5;241m.\u001b[39m_raise_error_on_transmission_tech_def(\n\u001b[0;32m    171\u001b[0m     techs_this_node_incl_inheritance, node_name\n\u001b[0;32m    172\u001b[0m )\n\u001b[0;32m    173\u001b[0m techs_this_node_incl_inheritance\u001b[38;5;241m.\u001b[39munion(\n\u001b[0;32m    174\u001b[0m     links_at_nodes\u001b[38;5;241m.\u001b[39mget(node_name, AttrDict())\n\u001b[0;32m    175\u001b[0m )\n",
      "File \u001b[1;32m~\\miniforge3\\envs\\calliope\\Lib\\site-packages\\calliope\\util\\schema.py:132\u001b[0m, in \u001b[0;36mvalidate_dict\u001b[1;34m(to_validate, schema, dict_descriptor)\u001b[0m\n\u001b[0;32m    129\u001b[0m             errors\u001b[38;5;241m.\u001b[39mappend(\u001b[38;5;124mf\u001b[39m\u001b[38;5;124m\"\u001b[39m\u001b[38;5;132;01m{\u001b[39;00mpath_\u001b[38;5;132;01m}\u001b[39;00m\u001b[38;5;124m: \u001b[39m\u001b[38;5;132;01m{\u001b[39;00mbest_match\u001b[38;5;241m.\u001b[39mmessage\u001b[38;5;132;01m}\u001b[39;00m\u001b[38;5;124m\"\u001b[39m)\n\u001b[0;32m    131\u001b[0m \u001b[38;5;28;01mif\u001b[39;00m errors:\n\u001b[1;32m--> 132\u001b[0m     \u001b[43mprint_warnings_and_raise_errors\u001b[49m\u001b[43m(\u001b[49m\n\u001b[0;32m    133\u001b[0m \u001b[43m        \u001b[49m\u001b[43merrors\u001b[49m\u001b[38;5;241;43m=\u001b[39;49m\u001b[43merrors\u001b[49m\u001b[43m,\u001b[49m\u001b[43m \u001b[49m\u001b[43mduring\u001b[49m\u001b[38;5;241;43m=\u001b[39;49m\u001b[38;5;124;43mf\u001b[39;49m\u001b[38;5;124;43m\"\u001b[39;49m\u001b[38;5;124;43mvalidation of the \u001b[39;49m\u001b[38;5;132;43;01m{\u001b[39;49;00m\u001b[43mdict_descriptor\u001b[49m\u001b[38;5;132;43;01m}\u001b[39;49;00m\u001b[38;5;124;43m dictionary.\u001b[39;49m\u001b[38;5;124;43m\"\u001b[39;49m\n\u001b[0;32m    134\u001b[0m \u001b[43m    \u001b[49m\u001b[43m)\u001b[49m\n",
      "File \u001b[1;32m~\\miniforge3\\envs\\calliope\\Lib\\site-packages\\calliope\\exceptions.py:123\u001b[0m, in \u001b[0;36mprint_warnings_and_raise_errors\u001b[1;34m(warnings, errors, during, bullet)\u001b[0m\n\u001b[0;32m    120\u001b[0m     warn(\u001b[38;5;124mf\u001b[39m\u001b[38;5;124m\"\u001b[39m\u001b[38;5;124mPossible issues found during \u001b[39m\u001b[38;5;132;01m{\u001b[39;00mduring\u001b[38;5;132;01m}\u001b[39;00m\u001b[38;5;124m:\u001b[39m\u001b[38;5;130;01m\\n\u001b[39;00m\u001b[38;5;124m\"\u001b[39m \u001b[38;5;241m+\u001b[39m _indenter(warnings))\n\u001b[0;32m    122\u001b[0m \u001b[38;5;28;01mif\u001b[39;00m errors:\n\u001b[1;32m--> 123\u001b[0m     \u001b[38;5;28;01mraise\u001b[39;00m ModelError(\u001b[38;5;124mf\u001b[39m\u001b[38;5;124m\"\u001b[39m\u001b[38;5;124mErrors during \u001b[39m\u001b[38;5;132;01m{\u001b[39;00mduring\u001b[38;5;132;01m}\u001b[39;00m\u001b[38;5;124m:\u001b[39m\u001b[38;5;130;01m\\n\u001b[39;00m\u001b[38;5;124m\"\u001b[39m \u001b[38;5;241m+\u001b[39m _indenter(errors))\n\u001b[0;32m    125\u001b[0m \u001b[38;5;28;01mreturn\u001b[39;00m \u001b[38;5;28;01mNone\u001b[39;00m\n",
      "\u001b[1;31mModelError\u001b[0m: Errors during validation of the tech definition at node `Iceland` dictionary.:\n * techs.aluminum_supply: 'base_tech' is a required property\n * techs.aluminum_supply: {} is not valid under any of the given schemas"
     ]
    }
   ],
   "source": [
    "model = calliope.Model('model.yaml')"
   ]
  },
  {
   "cell_type": "code",
   "execution_count": null,
   "id": "e33fda10-9e48-42d8-8487-b735c7139881",
   "metadata": {},
   "outputs": [],
   "source": [
    "model.inputs"
   ]
  },
  {
   "cell_type": "code",
   "execution_count": null,
   "id": "945d5d9e-eef0-45b0-baa2-d31e8592621c",
   "metadata": {},
   "outputs": [],
   "source": [
    "model.inputs.flow_cap_max.to_series().dropna()"
   ]
  },
  {
   "cell_type": "code",
   "execution_count": null,
   "id": "049fc2cf-cbb2-4eb2-a9ce-7131df1ef8f3",
   "metadata": {},
   "outputs": [],
   "source": [
    "model.inputs.sink_use_equals.sum(\n",
    "    \"timesteps\", min_count=1, skipna=True\n",
    ").to_series().dropna()"
   ]
  },
  {
   "cell_type": "code",
   "execution_count": null,
   "id": "565182e9-3441-4925-9503-6dd8e37ee7df",
   "metadata": {},
   "outputs": [],
   "source": [
    "model.build(force=True)\n",
    "model.solve()"
   ]
  },
  {
   "cell_type": "code",
   "execution_count": null,
   "id": "a40e7f9a-44f6-4945-a51c-8ea1e05ad931",
   "metadata": {},
   "outputs": [],
   "source": [
    "model.results"
   ]
  },
  {
   "cell_type": "code",
   "execution_count": null,
   "id": "3a3681ec-9065-4e32-bea0-2e73b6cef388",
   "metadata": {},
   "outputs": [],
   "source": [
    "costs = model.results.cost.to_series().dropna()\n",
    "costs.head()"
   ]
  },
  {
   "cell_type": "code",
   "execution_count": null,
   "id": "e8305d8d-96e6-4517-b7c6-0fafeaeb8a36",
   "metadata": {},
   "outputs": [],
   "source": [
    "lcoes = model.results.systemwide_levelised_cost.to_series().dropna()\n",
    "lcoes"
   ]
  },
  {
   "cell_type": "code",
   "execution_count": null,
   "id": "7c88a712-6df2-4525-b57c-93d1a99100dc",
   "metadata": {},
   "outputs": [],
   "source": [
    "# We set the color mapping to use in all our plots by extracting the colors defined in the technology definitions of our model.\n",
    "colors = model.inputs.color.to_series().to_dict()"
   ]
  },
  {
   "cell_type": "code",
   "execution_count": null,
   "id": "d2411241-973f-49b4-aae5-82fdae147964",
   "metadata": {},
   "outputs": [],
   "source": [
    "df_electricity = (\n",
    "    (model.results.flow_out.fillna(0) - model.results.flow_in.fillna(0))\n",
    "    .sel(carriers=\"aluminum\")\n",
    "    .sum(\"nodes\")\n",
    "    .to_series()\n",
    "    .where(lambda x: x != 0)\n",
    "    .dropna()\n",
    "    .to_frame(\"Flow in/out (kWh)\")\n",
    "    .reset_index()\n",
    ")\n",
    "df_electricity_demand = df_electricity[df_electricity.techs == \"aluminum_demand\"]\n",
    "df_electricity_other = df_electricity[df_electricity.techs != \"aluminum_demand\"]\n",
    "\n",
    "print(df_electricity.head())\n",
    "\n",
    "fig1 = px.bar(\n",
    "    df_electricity_other,\n",
    "    x=\"timesteps\",\n",
    "    y=\"Flow in/out (kWh)\",\n",
    "    color=\"techs\",\n",
    "    color_discrete_map=colors,\n",
    ")\n",
    "fig1.add_scatter(\n",
    "    x=df_electricity_demand.timesteps,\n",
    "    y=-1 * df_electricity_demand[\"Flow in/out (kWh)\"],\n",
    "    marker_color=\"black\",\n",
    "    name=\"aluminum_demand\",\n",
    ")"
   ]
  },
  {
   "cell_type": "code",
   "execution_count": null,
   "id": "063d69ab-eb2d-410d-8baf-34401589e32f",
   "metadata": {},
   "outputs": [],
   "source": [
    "df_electricity = (\n",
    "    (model.results.flow_out.fillna(0) - model.results.flow_in.fillna(0))\n",
    "    .sel(carriers=\"aluminum\")\n",
    "    .to_series()\n",
    "    .where(lambda x: x != 0)\n",
    "    .dropna()\n",
    "    .to_frame(\"Flow in/out (kWh)\")\n",
    "    .reset_index()\n",
    ")\n",
    "df_electricity_demand = df_electricity[df_electricity.techs == \"aluminum_demand\"]\n",
    "df_electricity_other = df_electricity[df_electricity.techs != \"aluminum_demand\"]\n",
    "\n",
    "print(df_electricity.head())\n",
    "\n",
    "node_order = df_electricity.nodes.unique()\n",
    "\n",
    "fig = px.bar(\n",
    "    df_electricity_other,\n",
    "    x=\"timesteps\",\n",
    "    y=\"Flow in/out (kWh)\",\n",
    "    facet_row=\"nodes\",\n",
    "    color=\"techs\",\n",
    "    category_orders={\"nodes\": node_order},\n",
    "    height=1000,\n",
    "    color_discrete_map=colors,\n",
    ")\n",
    "\n",
    "showlegend = True\n",
    "# we reverse the node order (`[::-1]`) because the rows are numbered from bottom to top.\n",
    "for idx, node in enumerate(node_order[::-1]):\n",
    "    demand_ = df_electricity_demand.loc[\n",
    "        df_electricity_demand.nodes == node, \"Flow in/out (kWh)\"\n",
    "    ]\n",
    "    if not demand_.empty:\n",
    "        fig.add_scatter(\n",
    "            x=df_electricity_demand.loc[\n",
    "                df_electricity_demand.nodes == node, \"timesteps\"\n",
    "            ],\n",
    "            y=-1 * demand_,\n",
    "            row=idx + 1,\n",
    "            col=\"all\",\n",
    "            marker_color=\"black\",\n",
    "            name=\"Demand\",\n",
    "            legendgroup=\"demand\",\n",
    "            showlegend=showlegend,\n",
    "        )\n",
    "        showlegend = False\n",
    "fig.update_yaxes(matches=None)\n",
    "fig.show()"
   ]
  },
  {
   "cell_type": "code",
   "execution_count": null,
   "id": "513d6ad6-bb14-49c5-b520-e454d9b37ac9",
   "metadata": {},
   "outputs": [],
   "source": [
    "df_capacity = (\n",
    "    model.results.flow_cap.where(model.results.techs != \"aluminum_demand\")\n",
    "    .sel(carriers=\"aluminum\")\n",
    "    .to_series()\n",
    "    .where(lambda x: x != 0)\n",
    "    .dropna()\n",
    "    .to_frame(\"Flow capacity (kW)\")\n",
    "    .reset_index()\n",
    ")\n",
    "\n",
    "print(df_capacity.head())\n",
    "\n",
    "fig = px.bar(\n",
    "    df_capacity,\n",
    "    x=\"nodes\",\n",
    "    y=\"Flow capacity (kW)\",\n",
    "    color=\"techs\",\n",
    "    color_discrete_map=colors,\n",
    ")\n",
    "fig.show()"
   ]
  },
  {
   "cell_type": "code",
   "execution_count": null,
   "id": "856d8e88-5d12-4049-9a5c-e3c1403d556e",
   "metadata": {},
   "outputs": [],
   "source": [
    "df_coords = model.inputs[[\"latitude\", \"longitude\"]].to_dataframe().reset_index()\n",
    "df_capacity = (\n",
    "    model.results.flow_cap.where(model.inputs.base_tech == \"transmission\")\n",
    "    .sel(carriers=\"aluminum\")\n",
    "    .to_series()\n",
    "    .where(lambda x: x != 0)\n",
    "    .dropna()\n",
    "    .to_frame(\"Flow capacity (kW)\")\n",
    "    .reset_index()\n",
    ")\n",
    "df_capacity_coords = pd.merge(df_coords, df_capacity, left_on=\"nodes\", right_on=\"nodes\")\n",
    "\n",
    "fig = px.line_mapbox(\n",
    "    df_capacity_coords,\n",
    "    lat=\"latitude\",\n",
    "    lon=\"longitude\",\n",
    "    color=\"techs\",\n",
    "    hover_data=\"Flow capacity (kW)\",\n",
    "    zoom=3,\n",
    "    height=300,\n",
    ")\n",
    "fig.update_layout(\n",
    "    mapbox_style=\"open-street-map\",\n",
    "    mapbox_zoom=4,\n",
    "    mapbox_center_lat=df_coords.latitude.mean(),\n",
    "    mapbox_center_lon=df_coords.longitude.mean(),\n",
    "    margin={\"r\": 0, \"t\": 0, \"l\": 0, \"b\": 0},\n",
    ")"
   ]
  }
 ],
 "metadata": {
  "kernelspec": {
   "display_name": "Python 3 (ipykernel)",
   "language": "python",
   "name": "python3"
  },
  "language_info": {
   "codemirror_mode": {
    "name": "ipython",
    "version": 3
   },
   "file_extension": ".py",
   "mimetype": "text/x-python",
   "name": "python",
   "nbconvert_exporter": "python",
   "pygments_lexer": "ipython3",
   "version": "3.12.3"
  }
 },
 "nbformat": 4,
 "nbformat_minor": 5
}
